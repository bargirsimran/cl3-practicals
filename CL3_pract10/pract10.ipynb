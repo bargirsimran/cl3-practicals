{
 "cells": [
  {
   "cell_type": "code",
   "execution_count": 1,
   "id": "d12e5f6d",
   "metadata": {},
   "outputs": [
    {
     "name": "stdout",
     "output_type": "stream",
     "text": [
      "Requirement already satisfied: mrjob in c:\\users\\bargi\\appdata\\roaming\\python\\python312\\site-packages (0.7.4)\n",
      "Requirement already satisfied: PyYAML>=3.10 in c:\\users\\bargi\\appdata\\roaming\\python\\python312\\site-packages (from mrjob) (6.0.2)\n",
      "Note: you may need to restart the kernel to use updated packages.\n"
     ]
    }
   ],
   "source": [
    "pip install mrjob"
   ]
  },
  {
   "cell_type": "code",
   "execution_count": 2,
   "id": "2a452ccb",
   "metadata": {},
   "outputs": [
    {
     "name": "stdout",
     "output_type": "stream",
     "text": [
      "Index(['Location', 'Date_Time', 'Temperature_C', 'Humidity_pct',\n",
      "       'Precipitation_mm', 'Wind_Speed_kmh'],\n",
      "      dtype='object')\n",
      "Hottest Year: 2024.0 with Avg Temp: 14.779704927042093°C\n",
      "Coolest Year: 2024.0 with Avg Temp: 14.779704927042093°C\n"
     ]
    }
   ],
   "source": [
    "import pandas as pd\n",
    "from collections import defaultdict\n",
    "\n",
    "# Load dataset\n",
    "df = pd.read_csv('weather_data.csv')\n",
    "\n",
    "# Print columns to debug\n",
    "print(df.columns)\n",
    "\n",
    "# Ensure no leading/trailing spaces in column names\n",
    "df.columns = df.columns.str.strip()\n",
    "\n",
    "# Extract year and temperature\n",
    "df['Year'] = pd.to_datetime(df['Date_Time']).dt.year\n",
    "df['Temperature'] = df['Temperature_C'].astype(float)\n",
    "\n",
    "# Mapper: Emit (year, temperature)\n",
    "mapped_data = df[['Year', 'Temperature']].values\n",
    "\n",
    "# Reducer: Aggregate by year and compute average temperature\n",
    "yearly_temps = defaultdict(list)\n",
    "for year, temp in mapped_data:\n",
    "    yearly_temps[year].append(temp)\n",
    "\n",
    "avg_temps = {year: sum(temps)/len(temps) for year, temps in yearly_temps.items()}\n",
    "\n",
    "# Find hottest and coolest years\n",
    "hottest_year = max(avg_temps, key=avg_temps.get)\n",
    "coolest_year = min(avg_temps, key=avg_temps.get)\n",
    "\n",
    "print(f\"Hottest Year: {hottest_year} with Avg Temp: {avg_temps[hottest_year]}°C\")\n",
    "print(f\"Coolest Year: {coolest_year} with Avg Temp: {avg_temps[coolest_year]}°C\")\n"
   ]
  },
  {
   "cell_type": "code",
   "execution_count": 3,
   "id": "ad284920",
   "metadata": {},
   "outputs": [
    {
     "name": "stdout",
     "output_type": "stream",
     "text": [
      "Index(['Location', 'Date_Time', 'Temperature_C', 'Humidity_pct',\n",
      "       'Precipitation_mm', 'Wind_Speed_kmh', 'Year', 'Temperature'],\n",
      "      dtype='object')\n"
     ]
    }
   ],
   "source": [
    "print(df.columns)"
   ]
  },
  {
   "cell_type": "code",
   "execution_count": null,
   "id": "2e26f33e",
   "metadata": {},
   "outputs": [],
   "source": []
  }
 ],
 "metadata": {
  "kernelspec": {
   "display_name": "base",
   "language": "python",
   "name": "python3"
  },
  "language_info": {
   "codemirror_mode": {
    "name": "ipython",
    "version": 3
   },
   "file_extension": ".py",
   "mimetype": "text/x-python",
   "name": "python",
   "nbconvert_exporter": "python",
   "pygments_lexer": "ipython3",
   "version": "3.12.7"
  }
 },
 "nbformat": 4,
 "nbformat_minor": 5
}
